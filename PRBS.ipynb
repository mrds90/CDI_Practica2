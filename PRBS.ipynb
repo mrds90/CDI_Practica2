{
 "cells": [
  {
   "cell_type": "code",
   "execution_count": 4,
   "id": "11d289cb",
   "metadata": {},
   "outputs": [],
   "source": [
    "import numpy as np\n",
    "\n",
    "def create_prbs(ValUinit, ValAmpli, ValDecal, ValLgReg, ValDivi, Nsamp, Tappli):\n",
    "    # \"Entry parameters\" are :\n",
    "    # ValUinit  : Initial steady state\n",
    "    # ValAmpli  : Magnitude\n",
    "    # ValDecal  : Add-on DC component\n",
    "    # ValLgReg  : Register length\n",
    "    # ValDivi   : Frequency divider\n",
    "    # samp      : Number of samples\n",
    "    # Tappli    : Application instant \n",
    "    \n",
    "#                   ____  Valdecal + ValAmpli         __________      ____\n",
    "#                  |    |                            |          |    |\n",
    "#  Valdecal       -|----|--------                    |          |    |\n",
    "#                  |    |____________________________|          |____|\n",
    "#                  |\n",
    "#                  |\n",
    "#  ini ____________|\n",
    "#                                                    |--------->|\n",
    "#      |-Tappli -->|                        ValReg * ValDivi \n",
    "#      \n",
    "# \n",
    "#      |---------- samp ------------------------------------------------->|\n",
    "#                              \n",
    "    \n",
    "    # the initialization is performed\n",
    "    k1 = ValLgReg - 1\n",
    "    k2 = ValLgReg\n",
    "    \n",
    "    if ValLgReg == 5:\n",
    "        k1 = 3\n",
    "    elif ValLgReg == 7:\n",
    "        k1 = 4\n",
    "    elif ValLgReg == 9:\n",
    "        k1 = 5\n",
    "    elif ValLgReg == 10:\n",
    "        k1 = 7\n",
    "    elif ValLgReg == 11:\n",
    "        k1 = 9\n",
    "\n",
    "    sbpa = np.ones(11)\n",
    "\n",
    "    # After init-phase PRBS algo is running\n",
    "\n",
    "    # Output set to init-value until the PRBS application istant\n",
    "    prbs = np.empty(Nsamp)\n",
    "    prbs[:Tappli] = ValUinit\n",
    "\n",
    "    # PRBS sequence generation \n",
    "    i = Tappli\n",
    "    while (i < Nsamp):\n",
    "        uiu = -sbpa[k1] * sbpa[k2]\n",
    "        if (ValLgReg == 8):\n",
    "            uiu = -sbpa[2] * sbpa[3] * sbpa[5] * sbpa[8]\n",
    "        j = 1\n",
    "        while (j <= ValDivi):\n",
    "            prbs[i] = uiu * ValAmpli + ValDecal\n",
    "            i += 1\n",
    "            j += 1\n",
    "        for j in range(ValLgReg, 1, -1):\n",
    "            sbpa[j] = sbpa[j-1]\n",
    "        sbpa[1] = uiu\n",
    "    \n",
    "    return prbs"
   ]
  },
  {
   "cell_type": "code",
   "execution_count": 7,
   "id": "44f863e4",
   "metadata": {},
   "outputs": [
    {
     "name": "stdout",
     "output_type": "stream",
     "text": [
      "6\n",
      "63\n",
      "0.126\n"
     ]
    },
    {
     "data": {
      "image/png": "[encoded data removed]",
      "text/plain": [
       "<Figure size 640x480 with 1 Axes>"
      ]
     },
     "metadata": {},
     "output_type": "display_data"
    }
   ],
   "source": [
    "import matplotlib.pyplot as plt\n",
    "\n",
    "# \"Entry parameters\" are :\n",
    "# ValUinit  : Initial steady state\n",
    "# ValAmpli  : Magnitude              (U)\n",
    "# ValDecal  : Add-on DC component    \n",
    "# ValLgReg  : Register length        (N)\n",
    "# ValDivi   : Frequency divider      (p) --> fprbs = fs/p\n",
    "# samp      : Number of samples      (L)\n",
    "# Tappli    : Application instant \n",
    "\n",
    "# create_prbs(ValUinit, ValAmpli, ValDecal, ValLgReg, ValDivi, Nsamp, Tappli)\n",
    "\n",
    "U = 1               # La amplitud del PRBS puede ser pequeña, pero debe ser tal de tener una buena relación señal/ruido  \n",
    "# U tampoco debe ser tan grande como para poner de manifiesto la dinámica no-lineal del sistema\n",
    "tr = 0.01\n",
    "Tprbs = 0.01/5\n",
    "p = 1               # Divisor de la frecuencia de muestreo, solamente necesaria si N se hace demasiado grande\n",
    "N = int(tr/Tprbs)+1 # esto es así si p=1, si p>1 --> N=tr/(p*Tprbs)\n",
    "L = 2**N-1\n",
    "D = L*Tprbs         # Indicación del tiempo que debe durar el ensayo como mínimo\n",
    "\n",
    "\n",
    "print(N)\n",
    "print(L)\n",
    "print(D) \n",
    "\n",
    "prbs = create_prbs(0,U,0,N,p,L,0)\n",
    "\n",
    "plt.stem(prbs)\n",
    "# plt.plot(prbs)\n",
    "plt.show()"
   ]
  }
 ],
 "metadata": {
  "kernelspec": {
   "display_name": "Python 3 (ipykernel)",
   "language": "python",
   "name": "python3"
  },
  "language_info": {
   "codemirror_mode": {
    "name": "ipython",
    "version": 3
   },
   "file_extension": ".py",
   "mimetype": "text/x-python",
   "name": "python",
   "nbconvert_exporter": "python",
   "pygments_lexer": "ipython3",
   "version": "3.8.10"
  }
 },
 "nbformat": 4,
 "nbformat_minor": 5
}
