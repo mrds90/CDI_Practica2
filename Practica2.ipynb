{
 "cells": [
  {
   "cell_type": "markdown",
   "metadata": {},
   "source": [
    "# Practica 2"
   ]
  },
  {
   "cell_type": "code",
   "execution_count": null,
   "metadata": {},
   "outputs": [],
   "source": [
    "import numpy as np\n",
    "import matplotlib.pyplot as plt\n",
    "from control import *\n",
    "\n",
    "CB_color_cycle = (\n",
    "    \"#377eb8\",\n",
    "    \"#ff7f00\",\n",
    "    \"#4daf4a\",\n",
    "    \"#f781bf\",\n",
    "    \"#a65628\",\n",
    "    \"#984ea3\",\n",
    "    \"#999999\",\n",
    "    \"#e41a1c\",\n",
    "    \"#dede00\",\n",
    ")"
   ]
  },
  {
   "cell_type": "code",
   "execution_count": null,
   "metadata": {},
   "outputs": [],
   "source": [
    "def filter(num: np.ndarray, den: np.ndarray, input: np.ndarray) -> np.ndarray:\n",
    "    # Convertir a arrays de tipo float para evitar problemas de división\n",
    "    num = np.array(num, dtype=float)\n",
    "    den = np.array(den, dtype=float)\n",
    "\n",
    "    # Validación de la longitud de los coeficientes\n",
    "    if len(den) < 1 or len(num) < 1:\n",
    "        raise ValueError(\"Los coeficientes del numerador y del denominador deben tener al menos un elemento.\")\n",
    "    \n",
    "    # Normalización del denominador\n",
    "    if den[0] != 1:\n",
    "        num = num / den[0]\n",
    "        den = den / den[0]\n",
    "\n",
    "    # Longitud de la entrada y los coeficientes\n",
    "    N = len(input)\n",
    "    M = len(num)\n",
    "    K = len(den)\n",
    "\n",
    "    # Salida inicializada a ceros\n",
    "    output = np.zeros(N)\n",
    "\n",
    "    # Aplicar la ecuación en diferencias\n",
    "    for n in range(N):\n",
    "        # Parte del numerador\n",
    "        for m in range(M):\n",
    "            if n - m >= 0:\n",
    "                output[n] += num[m] * input[n - m]\n",
    "        \n",
    "        # Parte del denominador\n",
    "        for k in range(1, K):\n",
    "            if n - k >= 0:\n",
    "                output[n] -= den[k] * output[n - k]\n",
    "    \n",
    "    return output"
   ]
  },
  {
   "cell_type": "markdown",
   "metadata": {},
   "source": [
    "1) Crear una función que aplique la función de identificación por \n",
    "método de cuadrados mínimos (LS) y obtenga el vector de parámetros del modelo \n",
    "a partir del orden deseado del sistema y las señales de entrada/salida."
   ]
  },
  {
   "cell_type": "code",
   "execution_count": null,
   "metadata": {},
   "outputs": [],
   "source": [
    "def identificacionLS(n, u, y):\n",
    "    \"\"\"\n",
    "    Identifica los parámetros de un sistema de orden n usando el método de mínimos cuadrados.\n",
    "    \n",
    "    Parámetros:\n",
    "    n (int): Orden del sistema.\n",
    "    u (array_like): Señal de entrada.\n",
    "    y (array_like): Señal de salida.\n",
    "\n",
    "    Retorna:\n",
    "    Theta (numpy.ndarray): Vector de parámetros identificados.\n",
    "    \"\"\"\n",
    "    \n",
    "    # Extrae el segmento de y desde el índice n hasta el final\n",
    "    Y = y[n:]\n",
    "    \n",
    "    # Calcula el número de filas y columnas para Phi\n",
    "    # Número de filas: longitud de Y\n",
    "    # Número de columnas: n (valores retrasados de y) + (n + 1) (valores retrasados de u)\n",
    "    num_filas = len(Y)\n",
    "    num_columnas = 2 * n + 1\n",
    "    \n",
    "    # Inicializa la matriz Phi con ceros. Tiene tantas filas como elementos en Y,\n",
    "    # y 2*n + 1 columnas\n",
    "    Phi = np.zeros((num_filas, num_columnas))\n",
    "       \n",
    "    # Construcción de Phi\n",
    "    # Rellena las primeras n columnas de Phi con valores de y retrasados\n",
    "    Phi[:, :n] = np.array([y[n-1-i:len(y)-1-i] for i in range(n)]).T\n",
    "    \n",
    "    # Rellena las últimas n+1 columnas de Phi con valores de u retrasados\n",
    "    Phi[:, n:] = np.array([u[n-j:len(y)-j] for j in range(n+1)]).T\n",
    "        \n",
    "    # Calcula Theta usando la fórmula de mínimos cuadrados:\n",
    "    # Theta = (Phi' * Phi)^(-1) * Phi' * Y\n",
    "    Theta = np.linalg.inv(Phi.T @ Phi) @ Phi.T @ Y\n",
    "    \n",
    "    return Theta"
   ]
  },
  {
   "cell_type": "markdown",
   "metadata": {},
   "source": [
    "2) Crear una función que aplique la función de identificación por \n",
    "método de cuadrados mínimos recursivo (RLS) y obtenga el vector de parámetros \n",
    "del modelo a partir del orden deseado del sistema y las señales de \n",
    "entrada/salida."
   ]
  },
  {
   "cell_type": "code",
   "execution_count": null,
   "metadata": {},
   "outputs": [],
   "source": [
    "def identificacionRLS(n: int, u: np.ndarray, y: np.ndarray, lastP: np.ndarray, lastTheta: np.ndarray):\n",
    "    \"\"\"\n",
    "    Identifica los parámetros de un sistema de orden n usando el método de mínimos cuadrados recursivo (RLS).\n",
    "    \n",
    "    Parámetros:\n",
    "    n (int): Orden del sistema.\n",
    "    u (array_like): Señal de entrada.\n",
    "    y (array_like): Señal de salida.\n",
    "    lastP (numpy.ndarray): Matriz P de la iteración anterior.\n",
    "    lastTheta (numpy.ndarray): Vector Theta de la iteración anterior.\n",
    "\n",
    "    Retorna:\n",
    "    Theta (numpy.ndarray): Vector de parámetros identificados.\n",
    "    P (numpy.ndarray): Matriz P actualizada.\n",
    "    \"\"\"\n",
    "    \n",
    "    # Construcción de Phi utilizando los valores retrasados de y y u\n",
    "    Phi = np.concatenate((y[n-1::-1], u[n::-1]))\n",
    "    \n",
    "    # Actualización de P usando la fórmula RLS\n",
    "    Phi = Phi.reshape(-1, 1)  # Convierte Phi en un vector columna\n",
    "    P = lastP - (lastP @ Phi @ Phi.T @ lastP) / (1 + Phi.T @ lastP @ Phi)\n",
    "    \n",
    "    # Cálculo del vector de ganancia K\n",
    "    K = (lastP @ Phi) / (1 + Phi.T @ lastP @ Phi)\n",
    "    # Actualización de Theta\n",
    "    Theta = lastTheta + K * (y[n] - Phi.T @ lastTheta)\n",
    "    \n",
    "\n",
    "    \n",
    "    return Theta, P\n",
    "\n"
   ]
  },
  {
   "cell_type": "markdown",
   "metadata": {},
   "source": [
    "3) Discretizar la planta con un período de muestreo \\( h = 0.1 \\) s.\n"
   ]
  },
  {
   "cell_type": "code",
   "execution_count": null,
   "metadata": {},
   "outputs": [],
   "source": [
    "h = 0.1\n",
    "\n",
    "num = [1, 1]\n",
    "den = [1, 0.5, 1]\n",
    "\n",
    "Hs = tf(num, den)\n",
    "\n",
    "Hz = c2d(Hs, h, 'zoh')\n",
    "print(Hz)\n"
   ]
  },
  {
   "cell_type": "markdown",
   "metadata": {},
   "source": [
    "4) Identificar los parámetros de la planta para orden 2 y 3 utilizando la función LS creada anteriormente."
   ]
  },
  {
   "cell_type": "code",
   "execution_count": null,
   "metadata": {},
   "outputs": [],
   "source": [
    "t = np.arange(0, 40+h, h)\n",
    "\n",
    "numz, denz = tfdata(Hz)\n",
    "numz = numz[0][0]\n",
    "denz = denz[0][0]\n",
    "u = (np.random.rand(len(t), 1) > 0.5).astype(int)\n",
    "y = filter(numz, denz, u)\n",
    "\n",
    "orden_max = 3 # cambiar este valor para probar con mas ordenes\n",
    "\n",
    "for orden in range(1, orden_max + 1):\n",
    "    #defino el nombre de las variables segun el orden\n",
    "    nombre_Theta_LS = f\"Theta_LS_{orden}\"\n",
    "    nombre_numz = f\"numz_LS_{orden}\"\n",
    "    nombre_denz = f\"denz_LS_{orden}\"\n",
    " \n",
    "    \n",
    "    Theta_LS = identificacionLS(orden, u, y)\n",
    "    num_indices = list(range(orden, 2 * orden + 1))\n",
    "    den_indices = list(range(0, orden))\n",
    "    print(Theta_LS)\n",
    "    num_coeff = [Theta_LS[indice] for indice in num_indices]\n",
    "    den_coeff = [1] + [-Theta_LS[indice] for indice in den_indices]\n",
    "    \n",
    "    # Asigna los coeficientes a las variables con los nombres construidos dinámicamente\n",
    "    locals()[nombre_Theta_LS] = [Theta_LS]\n",
    "    locals()[nombre_numz] = num_coeff\n",
    "    locals()[nombre_denz] = den_coeff"
   ]
  },
  {
   "cell_type": "markdown",
   "metadata": {},
   "source": [
    "5) Obtener el error de ambas identificaciones utilizando la función de costo J."
   ]
  },
  {
   "cell_type": "code",
   "execution_count": null,
   "metadata": {},
   "outputs": [],
   "source": [
    "# Genera las señales filtradas\n",
    "for orden in range(1, orden_max + 1):\n",
    "    nombre_numz = f\"numz_LS_{orden}\"\n",
    "    nombre_denz = f\"denz_LS_{orden}\"\n",
    "    \n",
    "    # Filtrar la señal\n",
    "    y_LS = filter(locals()[nombre_numz], locals()[nombre_denz], u)\n",
    "    \n",
    "    # Calcular el error\n",
    "    error = y - y_LS\n",
    "    \n",
    "    # Calcular el costo\n",
    "    J = np.dot(error.T, error) / 2\n",
    "    \n",
    "    # Imprimir el costo\n",
    "    print(f\"J_{orden}:\", J)\n"
   ]
  },
  {
   "cell_type": "markdown",
   "metadata": {},
   "source": [
    "6) Comparar la respuesta de los modelos obtenidos en el punto 4 con la \n",
    "respuesta de la planta real utilizando la misma señal de entrada."
   ]
  },
  {
   "cell_type": "code",
   "execution_count": null,
   "metadata": {},
   "outputs": [],
   "source": [
    "u = (np.random.rand(len(t), 1) > 0.5).astype(int)\n",
    "\n",
    "# Filtrar las señales\n",
    "y = filter(numz, denz, u)\n",
    "y_LS_1 = filter(numz_LS_1, denz_LS_1, u)\n",
    "y_LS_2 = filter(numz_LS_2, denz_LS_2, u)\n",
    "\n",
    "# Graficar las señales\n",
    "plt.figure(figsize=(15, 8))\n",
    "plt.plot(t, u, label='u', color=CB_color_cycle[0])\n",
    "plt.plot(t, y, linewidth=3, label='y', color=CB_color_cycle[1])\n",
    "plt.plot(t, y_LS_1, linewidth=3, label='y_LS_1', color=CB_color_cycle[2])\n",
    "plt.plot(t, y_LS_2, '--', linewidth=3, label='y_LS_2', color=CB_color_cycle[3])\n",
    "plt.grid(which='major', linestyle='-', linewidth=0.5)\n",
    "plt.grid(which='minor', linestyle='--', linewidth=0.5)\n",
    "plt.minorticks_on()\n",
    "plt.legend()\n",
    "plt.show()"
   ]
  },
  {
   "cell_type": "markdown",
   "metadata": {},
   "source": [
    "7) Identificar los parámetros de la planta utilizando la función RLS creada anteriormente. Obtener y comparar identificaciones con $P_{inicial} = 100 \\cdot I$ y $P_{inicial} = 1000 \\cdot I$.\n"
   ]
  },
  {
   "cell_type": "code",
   "execution_count": null,
   "metadata": {},
   "outputs": [],
   "source": [
    "N = 300\n",
    "\n",
    "Theta_RLS_1 = np.zeros((5, 1))\n",
    "P = np.eye(5) * 100\n",
    "\n",
    "t = np.arange(0, N)\n",
    "\n",
    "u = (np.random.rand(len(t), 1) > 0.5).astype(int).flatten()\n",
    "y = filter(numz, denz, u)\n",
    "\n",
    "# Suponiendo que u y y están definidos previamente\n",
    "\n",
    "for i in range(2, N):\n",
    "    Theta_RLS_1, P = identificacionRLS(2, u[i-2:i+1], y[i-2:i+1], P, Theta_RLS_1)\n",
    "    \n",
    "numz_RLS_1 = [Theta_RLS_1[2].item(), Theta_RLS_1[3].item(), Theta_RLS_1[4].item()]\n",
    "denz_RLS_1 = [1, -Theta_RLS_1[0].item(), -Theta_RLS_1[1].item()]\n",
    "\n",
    "Theta_RLS_2 = np.zeros((5, 1))\n",
    "P = np.eye(5) * 1000\n",
    "\n",
    "for i in range(2, N):\n",
    "    Theta_RLS_2, P = identificacionRLS(2, u[i-2:i+1], y[i-2:i+1], P, Theta_RLS_2)\n",
    "\n",
    "numz_RLS_2 = [Theta_RLS_2[2].item(), Theta_RLS_2[3].item(), Theta_RLS_2[4].item()]\n",
    "denz_RLS_2 = [1, -Theta_RLS_2[0].item(), -Theta_RLS_2[1].item()]\n",
    "\n"
   ]
  },
  {
   "cell_type": "markdown",
   "metadata": {},
   "source": [
    "8) Comparar la respuesta de los modelos obtenidos en el punto anterior con la respuesta de la planta real utilizando la misma señal de entrada.\n"
   ]
  },
  {
   "cell_type": "code",
   "execution_count": null,
   "metadata": {},
   "outputs": [],
   "source": [
    "y_RLS_1 = filter(numz_RLS_1, denz_RLS_1, u)\n",
    "y_RLS_2 = filter(numz_RLS_2, denz_RLS_2, u)\n",
    "\n",
    "# Graficar las señales\n",
    "plt.figure(figsize=(15, 8))\n",
    "plt.plot(t, u, label='u', color=CB_color_cycle[0])\n",
    "plt.plot(t, y, linewidth=3, label='y', color=CB_color_cycle[1])\n",
    "plt.plot(t, y_RLS_1, linewidth=3, label='y_LS_1', color=CB_color_cycle[2])\n",
    "plt.plot(t, y_RLS_2, '--', linewidth=3, label='y_LS_2', color=CB_color_cycle[3])\n",
    "plt.grid(which='major', linestyle='-', linewidth=0.5)\n",
    "plt.grid(which='minor', linestyle='--', linewidth=0.5)\n",
    "plt.minorticks_on()\n",
    "plt.legend()\n",
    "plt.show()"
   ]
  }
 ],
 "metadata": {
  "kernelspec": {
   "display_name": ".venv",
   "language": "python",
   "name": "python3"
  },
  "language_info": {
   "codemirror_mode": {
    "name": "ipython",
    "version": 3
   },
   "file_extension": ".py",
   "mimetype": "text/x-python",
   "name": "python",
   "nbconvert_exporter": "python",
   "pygments_lexer": "ipython3",
   "version": "3.8.10"
  }
 },
 "nbformat": 4,
 "nbformat_minor": 2
}
